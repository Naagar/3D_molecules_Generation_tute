{
  "nbformat": 4,
  "nbformat_minor": 0,
  "metadata": {
    "colab": {
      "name": "3D_mol_representation.ipynb",
      "provenance": []
    },
    "kernelspec": {
      "name": "python3",
      "display_name": "Python 3"
    },
    "language_info": {
      "name": "python"
    }
  },
  "cells": [
    {
      "cell_type": "code",
      "execution_count": null,
      "metadata": {
        "id": "G8GZzv4qby-s"
      },
      "outputs": [],
      "source": [
        "!pip install streamlit"
      ]
    },
    {
      "cell_type": "markdown",
      "source": [
        "# SMILES\n",
        "Simplified Molecular Input Line Entry System\n",
        "\n",
        "SMILES as a simple yet comprehensive chemical language in which molecules and reactions can be specified using ASCII characters representing atom and bond symbols. SMILES contains the same information as is found in an extended connection table but with several advantages. A SMILES string is human understandable, very compact, and if canonicalized represents a unique string that can be used as a universal identifier for a specific chemical structure. In addition, a chemically correct and comprehensible depiction can be made from any SMILES string symbolizing either a molecule or reaction.\n",
        "\n",
        "SMILES development was initiated by David Weininger in the late 1980s using the **concept of a graph with nodes as atoms and edges as bonds to represent a molecule. Parentheses are used to indicate branching points and numeric labels designate ring connection points. The basic SMILES grammar also includes as well as isotopic information, configuration about double bonds, and chirality leading to what is known as isomeric SMILES**.\n",
        "\n",
        "Some simple SMILES examples:\n",
        "```\n",
        "Ethanol\tCCO\n",
        "Acetic acid\tCC(=O)O\n",
        "Cyclohexane\tC1CCCCC1\n",
        "Pyridine\tc1cnccc1\n",
        "Trans-2-butene\tC/C=C/C\n",
        "L-alanine\tN[C@@H](C)C(=O)O\n",
        "Sodium chloride\t[Na+].[Cl-]\n",
        "Displacement reaction    \tC=CCBr>>C=CCI\n",
        "```\n",
        "\n",
        "\n",
        "\n",
        "Since its inception, SMILES has been modified and expanded by Daylight to include not only new features but two additional chemical languages: SMARTS®, an expansion of SMILES allowing specification of molecular patterns and properties for substructure searching with varying levels of specificity, and SMIRKS®, a restricted version of reaction SMARTS® involving changes in atom-bond patterns that define generic reactions."
      ],
      "metadata": {
        "id": "PaZeh2cedkXI"
      }
    },
    {
      "cell_type": "code",
      "source": [
        "!pip install rdkit-pypi"
      ],
      "metadata": {
        "colab": {
          "base_uri": "https://localhost:8080/"
        },
        "id": "ei1SdjFab5tA",
        "outputId": "2d4892af-8a86-4294-b2ab-277c8f26f0da"
      },
      "execution_count": 2,
      "outputs": [
        {
          "output_type": "stream",
          "name": "stdout",
          "text": [
            "Collecting rdkit-pypi\n",
            "  Downloading rdkit_pypi-2022.3.1-cp37-cp37m-manylinux_2_17_x86_64.manylinux2014_x86_64.whl (22.5 MB)\n",
            "\u001b[K     |████████████████████████████████| 22.5 MB 2.5 MB/s \n",
            "\u001b[?25hRequirement already satisfied: Pillow in /usr/local/lib/python3.7/dist-packages (from rdkit-pypi) (7.1.2)\n",
            "Requirement already satisfied: numpy>=1.19 in /usr/local/lib/python3.7/dist-packages (from rdkit-pypi) (1.21.5)\n",
            "Installing collected packages: rdkit-pypi\n",
            "Successfully installed rdkit-pypi-2022.3.1\n"
          ]
        }
      ]
    },
    {
      "cell_type": "code",
      "source": [
        "import streamlit as st\n",
        "from rdkit import Chem\n",
        "from rdkit.Chem import Draw\n",
        "from PIL import Image\n",
        "\n",
        "compound_smiles = 'c1cc(C(=O)O)c(OC(=O)C)cc1'\n",
        "m = Chem.MolFromSmiles(compound_smiles)\n",
        "# im=Draw.MolToImage(m)\n",
        "Draw.MolToFile(m,'mol.png')\n",
        "st.image('mol.png')"
      ],
      "metadata": {
        "colab": {
          "base_uri": "https://localhost:8080/"
        },
        "id": "egTsK4qtcR4L",
        "outputId": "8b6eb140-17ef-44da-e216-0d96fbd46c5f"
      },
      "execution_count": 7,
      "outputs": [
        {
          "output_type": "execute_result",
          "data": {
            "text/plain": [
              "DeltaGenerator(_root_container=0, _provided_cursor=None, _parent=None, _block_type=None, _form_data=None)"
            ]
          },
          "metadata": {},
          "execution_count": 7
        }
      ]
    },
    {
      "cell_type": "code",
      "source": [
        "Draw.MolToFile(m,’mol.png’)"
      ],
      "metadata": {
        "colab": {
          "base_uri": "https://localhost:8080/",
          "height": 130
        },
        "id": "R1eL8XUvcVnc",
        "outputId": "724764cc-9533-42c8-b253-d2a8a6ecc67f"
      },
      "execution_count": 4,
      "outputs": [
        {
          "output_type": "error",
          "ename": "SyntaxError",
          "evalue": "ignored",
          "traceback": [
            "\u001b[0;36m  File \u001b[0;32m\"/tmp/ipykernel_157/1213292766.py\"\u001b[0;36m, line \u001b[0;32m1\u001b[0m\n\u001b[0;31m    Draw.MolToFile(m,’mol.png’)\u001b[0m\n\u001b[0m                        ^\u001b[0m\n\u001b[0;31mSyntaxError\u001b[0m\u001b[0;31m:\u001b[0m invalid character in identifier\n"
          ]
        }
      ]
    },
    {
      "cell_type": "code",
      "source": [
        ""
      ],
      "metadata": {
        "id": "xmkbVsECc962"
      },
      "execution_count": null,
      "outputs": []
    }
  ]
}